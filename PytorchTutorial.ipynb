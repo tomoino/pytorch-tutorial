{
 "cells": [
  {
   "cell_type": "markdown",
   "id": "cbd479a5-2546-4a77-986a-8042ab14e2c6",
   "metadata": {},
   "source": [
    "# PyTorch チュートリアル\n",
    "機械学習でよく使われるライブラリ PyTorch について、最低限使えるように簡単にご紹介します。\n",
    "\n",
    "データ読み込みから学習・検証まで一通りの流れを分かってもらえればOKです。\n",
    "\n",
    "なお、このチュートリアルは以下のサイトを参考にしているので、もっと詳しく知りたい方は参照してください！\n",
    "\n",
    "https://yutaroogawa.github.io/pytorch_tutorials_jp/"
   ]
  },
  {
   "cell_type": "markdown",
   "id": "e4a1373d-63f7-413e-be6a-5a99664fd3fe",
   "metadata": {
    "tags": []
   },
   "source": [
    "## PyTorch とは？\n",
    "PyTorch は Python 用の科学計算ライブラリです。\n",
    "\n",
    "Tensor と呼ばれる多次元配列を計算に利用しています。この Tensor に対して、転置や線形代数、乱数処理など機械学習分野で使いやすい機能が色々と用意されています。"
   ]
  },
  {
   "cell_type": "code",
   "execution_count": 16,
   "id": "cbc6209e-7af2-4980-9790-93959646d014",
   "metadata": {
    "tags": []
   },
   "outputs": [
    {
     "name": "stdout",
     "output_type": "stream",
     "text": [
      "tensor([[0.5472, 0.3653, 0.2602],\n",
      "        [0.6732, 0.0435, 0.5931],\n",
      "        [0.5837, 0.1073, 0.4497],\n",
      "        [0.5634, 0.8252, 0.9433],\n",
      "        [0.1973, 0.6411, 0.0516]])\n"
     ]
    }
   ],
   "source": [
    "import torch\n",
    "x = torch.rand(5, 3)\n",
    "print(x)"
   ]
  },
  {
   "cell_type": "markdown",
   "id": "cac31cb0-6057-491f-a894-73e40f0bee6d",
   "metadata": {},
   "source": [
    "## Autograd (自動微分)\n",
    "PyTorch によるニューラルネットワーク構築の土台となっているのが、autograd 機能です。\n",
    "\n",
    "ニューラルネットワークでは入力の Tensor に対して、重みをかけたり、正規化したりなどの一連の計算を行って出力を得ます。\n",
    "\n",
    "Tensor はこの一連の計算処理をデータとして記録・保持しているため、勾配を計算することができます。"
   ]
  },
  {
   "cell_type": "code",
   "execution_count": 17,
   "id": "8e86fc8c-cb68-4fac-b03a-f1fe28f3d2b8",
   "metadata": {},
   "outputs": [
    {
     "name": "stdout",
     "output_type": "stream",
     "text": [
      "tensor([[0.5079, 0.3344],\n",
      "        [0.5936, 0.6525]], requires_grad=True)\n"
     ]
    }
   ],
   "source": [
    "x = torch.rand(2, 2, requires_grad=True)\n",
    "print(x)"
   ]
  },
  {
   "cell_type": "code",
   "execution_count": 18,
   "id": "38ecc078-6533-4461-9bf3-dca705d37a7a",
   "metadata": {},
   "outputs": [
    {
     "name": "stdout",
     "output_type": "stream",
     "text": [
      "tensor(0.2870, grad_fn=<MeanBackward0>)\n"
     ]
    }
   ],
   "source": [
    "def f(x):\n",
    "    return (x ** 2).mean()\n",
    "\n",
    "y = f(x)\n",
    "print(y)"
   ]
  },
  {
   "cell_type": "code",
   "execution_count": 19,
   "id": "0f28f8a0-b8e3-4ac4-9177-2628de99c2e1",
   "metadata": {},
   "outputs": [
    {
     "name": "stdout",
     "output_type": "stream",
     "text": [
      "None\n",
      "tensor([[0.2540, 0.1672],\n",
      "        [0.2968, 0.3263]])\n"
     ]
    }
   ],
   "source": [
    "print(x.grad)\n",
    "y.backward()\n",
    "print(x.grad)"
   ]
  },
  {
   "cell_type": "markdown",
   "id": "1c286b55-26a3-47f1-adce-7391ae5ec4c3",
   "metadata": {},
   "source": [
    "上の例のように\n",
    "\n",
    "$y=f(x)$\n",
    "\n",
    "に対して、y.backward の実行によって x の勾配を計算できる。"
   ]
  },
  {
   "cell_type": "markdown",
   "id": "0a4234fe-cbbd-45f1-8b3b-245a0d46c79c",
   "metadata": {},
   "source": [
    "## 実際の学習の流れ：クラス分類を例に\n",
    "実際、データを読み込んで学習を回すまでの流れを説明します。"
   ]
  },
  {
   "cell_type": "markdown",
   "id": "3c1f74b3-a1d0-4d32-87d5-f6db13d9fe0b",
   "metadata": {},
   "source": [
    "## データの読み込み\n",
    "今回は CIFAR10 データセットという画像の 10 クラス分類用のデータセットを用います。"
   ]
  },
  {
   "cell_type": "markdown",
   "id": "f54f0423-12b1-4e0b-bbb0-7aa9fbf9c451",
   "metadata": {},
   "source": [
    "以下ではデータセットを読み込んで Tensor にしています。"
   ]
  },
  {
   "cell_type": "code",
   "execution_count": 20,
   "id": "3b530dfd-69d1-433a-abda-0ab572a27dfa",
   "metadata": {},
   "outputs": [
    {
     "name": "stdout",
     "output_type": "stream",
     "text": [
      "Files already downloaded and verified\n"
     ]
    }
   ],
   "source": [
    "import torchvision\n",
    "import torchvision.transforms as transforms\n",
    "\n",
    "transform = transforms.Compose(\n",
    "    [transforms.ToTensor(),\n",
    "     transforms.Normalize((0.5, 0.5, 0.5), (0.5, 0.5, 0.5))])\n",
    "\n",
    "trainset = torchvision.datasets.CIFAR10(root='./data', train=True,\n",
    "                                        download=True, transform=transform)\n",
    "\n",
    "classes = ('plane', 'car', 'bird', 'cat',\n",
    "           'deer', 'dog', 'frog', 'horse', 'ship', 'truck')"
   ]
  },
  {
   "cell_type": "code",
   "execution_count": 21,
   "id": "e7018e5e-f1cf-4ad0-a683-28be38fec432",
   "metadata": {},
   "outputs": [
    {
     "data": {
      "application/vnd.plotly.v1+json": {
       "config": {
        "plotlyServerURL": "https://plot.ly"
       },
       "data": [
        {
         "hovertemplate": "x: %{x}<br>y: %{y}<extra></extra>",
         "name": "0",
         "source": "data:image/png;base64,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",
         "type": "image",
         "xaxis": "x",
         "yaxis": "y"
        }
       ],
       "layout": {
        "autosize": true,
        "margin": {
         "t": 60
        },
        "template": {
         "data": {
          "bar": [
           {
            "error_x": {
             "color": "#2a3f5f"
            },
            "error_y": {
             "color": "#2a3f5f"
            },
            "marker": {
             "line": {
              "color": "#E5ECF6",
              "width": 0.5
             },
             "pattern": {
              "fillmode": "overlay",
              "size": 10,
              "solidity": 0.2
             }
            },
            "type": "bar"
           }
          ],
          "barpolar": [
           {
            "marker": {
             "line": {
              "color": "#E5ECF6",
              "width": 0.5
             },
             "pattern": {
              "fillmode": "overlay",
              "size": 10,
              "solidity": 0.2
             }
            },
            "type": "barpolar"
           }
          ],
          "carpet": [
           {
            "aaxis": {
             "endlinecolor": "#2a3f5f",
             "gridcolor": "white",
             "linecolor": "white",
             "minorgridcolor": "white",
             "startlinecolor": "#2a3f5f"
            },
            "baxis": {
             "endlinecolor": "#2a3f5f",
             "gridcolor": "white",
             "linecolor": "white",
             "minorgridcolor": "white",
             "startlinecolor": "#2a3f5f"
            },
            "type": "carpet"
           }
          ],
          "choropleth": [
           {
            "colorbar": {
             "outlinewidth": 0,
             "ticks": ""
            },
            "type": "choropleth"
           }
          ],
          "contour": [
           {
            "colorbar": {
             "outlinewidth": 0,
             "ticks": ""
            },
            "colorscale": [
             [
              0,
              "#0d0887"
             ],
             [
              0.1111111111111111,
              "#46039f"
             ],
             [
              0.2222222222222222,
              "#7201a8"
             ],
             [
              0.3333333333333333,
              "#9c179e"
             ],
             [
              0.4444444444444444,
              "#bd3786"
             ],
             [
              0.5555555555555556,
              "#d8576b"
             ],
             [
              0.6666666666666666,
              "#ed7953"
             ],
             [
              0.7777777777777778,
              "#fb9f3a"
             ],
             [
              0.8888888888888888,
              "#fdca26"
             ],
             [
              1,
              "#f0f921"
             ]
            ],
            "type": "contour"
           }
          ],
          "contourcarpet": [
           {
            "colorbar": {
             "outlinewidth": 0,
             "ticks": ""
            },
            "type": "contourcarpet"
           }
          ],
          "heatmap": [
           {
            "colorbar": {
             "outlinewidth": 0,
             "ticks": ""
            },
            "colorscale": [
             [
              0,
              "#0d0887"
             ],
             [
              0.1111111111111111,
              "#46039f"
             ],
             [
              0.2222222222222222,
              "#7201a8"
             ],
             [
              0.3333333333333333,
              "#9c179e"
             ],
             [
              0.4444444444444444,
              "#bd3786"
             ],
             [
              0.5555555555555556,
              "#d8576b"
             ],
             [
              0.6666666666666666,
              "#ed7953"
             ],
             [
              0.7777777777777778,
              "#fb9f3a"
             ],
             [
              0.8888888888888888,
              "#fdca26"
             ],
             [
              1,
              "#f0f921"
             ]
            ],
            "type": "heatmap"
           }
          ],
          "heatmapgl": [
           {
            "colorbar": {
             "outlinewidth": 0,
             "ticks": ""
            },
            "colorscale": [
             [
              0,
              "#0d0887"
             ],
             [
              0.1111111111111111,
              "#46039f"
             ],
             [
              0.2222222222222222,
              "#7201a8"
             ],
             [
              0.3333333333333333,
              "#9c179e"
             ],
             [
              0.4444444444444444,
              "#bd3786"
             ],
             [
              0.5555555555555556,
              "#d8576b"
             ],
             [
              0.6666666666666666,
              "#ed7953"
             ],
             [
              0.7777777777777778,
              "#fb9f3a"
             ],
             [
              0.8888888888888888,
              "#fdca26"
             ],
             [
              1,
              "#f0f921"
             ]
            ],
            "type": "heatmapgl"
           }
          ],
          "histogram": [
           {
            "marker": {
             "pattern": {
              "fillmode": "overlay",
              "size": 10,
              "solidity": 0.2
             }
            },
            "type": "histogram"
           }
          ],
          "histogram2d": [
           {
            "colorbar": {
             "outlinewidth": 0,
             "ticks": ""
            },
            "colorscale": [
             [
              0,
              "#0d0887"
             ],
             [
              0.1111111111111111,
              "#46039f"
             ],
             [
              0.2222222222222222,
              "#7201a8"
             ],
             [
              0.3333333333333333,
              "#9c179e"
             ],
             [
              0.4444444444444444,
              "#bd3786"
             ],
             [
              0.5555555555555556,
              "#d8576b"
             ],
             [
              0.6666666666666666,
              "#ed7953"
             ],
             [
              0.7777777777777778,
              "#fb9f3a"
             ],
             [
              0.8888888888888888,
              "#fdca26"
             ],
             [
              1,
              "#f0f921"
             ]
            ],
            "type": "histogram2d"
           }
          ],
          "histogram2dcontour": [
           {
            "colorbar": {
             "outlinewidth": 0,
             "ticks": ""
            },
            "colorscale": [
             [
              0,
              "#0d0887"
             ],
             [
              0.1111111111111111,
              "#46039f"
             ],
             [
              0.2222222222222222,
              "#7201a8"
             ],
             [
              0.3333333333333333,
              "#9c179e"
             ],
             [
              0.4444444444444444,
              "#bd3786"
             ],
             [
              0.5555555555555556,
              "#d8576b"
             ],
             [
              0.6666666666666666,
              "#ed7953"
             ],
             [
              0.7777777777777778,
              "#fb9f3a"
             ],
             [
              0.8888888888888888,
              "#fdca26"
             ],
             [
              1,
              "#f0f921"
             ]
            ],
            "type": "histogram2dcontour"
           }
          ],
          "mesh3d": [
           {
            "colorbar": {
             "outlinewidth": 0,
             "ticks": ""
            },
            "type": "mesh3d"
           }
          ],
          "parcoords": [
           {
            "line": {
             "colorbar": {
              "outlinewidth": 0,
              "ticks": ""
             }
            },
            "type": "parcoords"
           }
          ],
          "pie": [
           {
            "automargin": true,
            "type": "pie"
           }
          ],
          "scatter": [
           {
            "marker": {
             "colorbar": {
              "outlinewidth": 0,
              "ticks": ""
             }
            },
            "type": "scatter"
           }
          ],
          "scatter3d": [
           {
            "line": {
             "colorbar": {
              "outlinewidth": 0,
              "ticks": ""
             }
            },
            "marker": {
             "colorbar": {
              "outlinewidth": 0,
              "ticks": ""
             }
            },
            "type": "scatter3d"
           }
          ],
          "scattercarpet": [
           {
            "marker": {
             "colorbar": {
              "outlinewidth": 0,
              "ticks": ""
             }
            },
            "type": "scattercarpet"
           }
          ],
          "scattergeo": [
           {
            "marker": {
             "colorbar": {
              "outlinewidth": 0,
              "ticks": ""
             }
            },
            "type": "scattergeo"
           }
          ],
          "scattergl": [
           {
            "marker": {
             "colorbar": {
              "outlinewidth": 0,
              "ticks": ""
             }
            },
            "type": "scattergl"
           }
          ],
          "scattermapbox": [
           {
            "marker": {
             "colorbar": {
              "outlinewidth": 0,
              "ticks": ""
             }
            },
            "type": "scattermapbox"
           }
          ],
          "scatterpolar": [
           {
            "marker": {
             "colorbar": {
              "outlinewidth": 0,
              "ticks": ""
             }
            },
            "type": "scatterpolar"
           }
          ],
          "scatterpolargl": [
           {
            "marker": {
             "colorbar": {
              "outlinewidth": 0,
              "ticks": ""
             }
            },
            "type": "scatterpolargl"
           }
          ],
          "scatterternary": [
           {
            "marker": {
             "colorbar": {
              "outlinewidth": 0,
              "ticks": ""
             }
            },
            "type": "scatterternary"
           }
          ],
          "surface": [
           {
            "colorbar": {
             "outlinewidth": 0,
             "ticks": ""
            },
            "colorscale": [
             [
              0,
              "#0d0887"
             ],
             [
              0.1111111111111111,
              "#46039f"
             ],
             [
              0.2222222222222222,
              "#7201a8"
             ],
             [
              0.3333333333333333,
              "#9c179e"
             ],
             [
              0.4444444444444444,
              "#bd3786"
             ],
             [
              0.5555555555555556,
              "#d8576b"
             ],
             [
              0.6666666666666666,
              "#ed7953"
             ],
             [
              0.7777777777777778,
              "#fb9f3a"
             ],
             [
              0.8888888888888888,
              "#fdca26"
             ],
             [
              1,
              "#f0f921"
             ]
            ],
            "type": "surface"
           }
          ],
          "table": [
           {
            "cells": {
             "fill": {
              "color": "#EBF0F8"
             },
             "line": {
              "color": "white"
             }
            },
            "header": {
             "fill": {
              "color": "#C8D4E3"
             },
             "line": {
              "color": "white"
             }
            },
            "type": "table"
           }
          ]
         },
         "layout": {
          "annotationdefaults": {
           "arrowcolor": "#2a3f5f",
           "arrowhead": 0,
           "arrowwidth": 1
          },
          "autotypenumbers": "strict",
          "coloraxis": {
           "colorbar": {
            "outlinewidth": 0,
            "ticks": ""
           }
          },
          "colorscale": {
           "diverging": [
            [
             0,
             "#8e0152"
            ],
            [
             0.1,
             "#c51b7d"
            ],
            [
             0.2,
             "#de77ae"
            ],
            [
             0.3,
             "#f1b6da"
            ],
            [
             0.4,
             "#fde0ef"
            ],
            [
             0.5,
             "#f7f7f7"
            ],
            [
             0.6,
             "#e6f5d0"
            ],
            [
             0.7,
             "#b8e186"
            ],
            [
             0.8,
             "#7fbc41"
            ],
            [
             0.9,
             "#4d9221"
            ],
            [
             1,
             "#276419"
            ]
           ],
           "sequential": [
            [
             0,
             "#0d0887"
            ],
            [
             0.1111111111111111,
             "#46039f"
            ],
            [
             0.2222222222222222,
             "#7201a8"
            ],
            [
             0.3333333333333333,
             "#9c179e"
            ],
            [
             0.4444444444444444,
             "#bd3786"
            ],
            [
             0.5555555555555556,
             "#d8576b"
            ],
            [
             0.6666666666666666,
             "#ed7953"
            ],
            [
             0.7777777777777778,
             "#fb9f3a"
            ],
            [
             0.8888888888888888,
             "#fdca26"
            ],
            [
             1,
             "#f0f921"
            ]
           ],
           "sequentialminus": [
            [
             0,
             "#0d0887"
            ],
            [
             0.1111111111111111,
             "#46039f"
            ],
            [
             0.2222222222222222,
             "#7201a8"
            ],
            [
             0.3333333333333333,
             "#9c179e"
            ],
            [
             0.4444444444444444,
             "#bd3786"
            ],
            [
             0.5555555555555556,
             "#d8576b"
            ],
            [
             0.6666666666666666,
             "#ed7953"
            ],
            [
             0.7777777777777778,
             "#fb9f3a"
            ],
            [
             0.8888888888888888,
             "#fdca26"
            ],
            [
             1,
             "#f0f921"
            ]
           ]
          },
          "colorway": [
           "#636efa",
           "#EF553B",
           "#00cc96",
           "#ab63fa",
           "#FFA15A",
           "#19d3f3",
           "#FF6692",
           "#B6E880",
           "#FF97FF",
           "#FECB52"
          ],
          "font": {
           "color": "#2a3f5f"
          },
          "geo": {
           "bgcolor": "white",
           "lakecolor": "white",
           "landcolor": "#E5ECF6",
           "showlakes": true,
           "showland": true,
           "subunitcolor": "white"
          },
          "hoverlabel": {
           "align": "left"
          },
          "hovermode": "closest",
          "mapbox": {
           "style": "light"
          },
          "paper_bgcolor": "white",
          "plot_bgcolor": "#E5ECF6",
          "polar": {
           "angularaxis": {
            "gridcolor": "white",
            "linecolor": "white",
            "ticks": ""
           },
           "bgcolor": "#E5ECF6",
           "radialaxis": {
            "gridcolor": "white",
            "linecolor": "white",
            "ticks": ""
           }
          },
          "scene": {
           "xaxis": {
            "backgroundcolor": "#E5ECF6",
            "gridcolor": "white",
            "gridwidth": 2,
            "linecolor": "white",
            "showbackground": true,
            "ticks": "",
            "zerolinecolor": "white"
           },
           "yaxis": {
            "backgroundcolor": "#E5ECF6",
            "gridcolor": "white",
            "gridwidth": 2,
            "linecolor": "white",
            "showbackground": true,
            "ticks": "",
            "zerolinecolor": "white"
           },
           "zaxis": {
            "backgroundcolor": "#E5ECF6",
            "gridcolor": "white",
            "gridwidth": 2,
            "linecolor": "white",
            "showbackground": true,
            "ticks": "",
            "zerolinecolor": "white"
           }
          },
          "shapedefaults": {
           "line": {
            "color": "#2a3f5f"
           }
          },
          "ternary": {
           "aaxis": {
            "gridcolor": "white",
            "linecolor": "white",
            "ticks": ""
           },
           "baxis": {
            "gridcolor": "white",
            "linecolor": "white",
            "ticks": ""
           },
           "bgcolor": "#E5ECF6",
           "caxis": {
            "gridcolor": "white",
            "linecolor": "white",
            "ticks": ""
           }
          },
          "title": {
           "x": 0.05
          },
          "xaxis": {
           "automargin": true,
           "gridcolor": "white",
           "linecolor": "white",
           "ticks": "",
           "title": {
            "standoff": 15
           },
           "zerolinecolor": "white",
           "zerolinewidth": 2
          },
          "yaxis": {
           "automargin": true,
           "gridcolor": "white",
           "linecolor": "white",
           "ticks": "",
           "title": {
            "standoff": 15
           },
           "zerolinecolor": "white",
           "zerolinewidth": 2
          }
         }
        },
        "xaxis": {
         "anchor": "y",
         "autorange": true,
         "domain": [
          0.4436186570989236,
          0.5563813429010763
         ],
         "range": [
          -0.5,
          31.5
         ]
        },
        "yaxis": {
         "anchor": "x",
         "autorange": true,
         "domain": [
          0,
          1
         ],
         "range": [
          31.5,
          -0.5
         ]
        }
       }
      },
      "image/png": "[encoded data removed]",
      "text/html": [
       "<div>                            <div id=\"fcc40651-2177-462e-9b71-f0141a785f59\" class=\"plotly-graph-div\" style=\"height:525px; width:100%;\"></div>            <script type=\"text/javascript\">                require([\"plotly\"], function(Plotly) {                    window.PLOTLYENV=window.PLOTLYENV || {};                                    if (document.getElementById(\"fcc40651-2177-462e-9b71-f0141a785f59\")) {                    Plotly.newPlot(                        \"fcc40651-2177-462e-9b71-f0141a785f59\",                        [{\"hovertemplate\":\"x: %{x}<br>y: %{y}<extra></extra>\",\"name\":\"0\",\"source\":\"data:image/png;base64,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\",\"type\":\"image\",\"xaxis\":\"x\",\"yaxis\":\"y\"}],                        {\"margin\":{\"t\":60},\"template\":{\"data\":{\"bar\":[{\"error_x\":{\"color\":\"#2a3f5f\"},\"error_y\":{\"color\":\"#2a3f5f\"},\"marker\":{\"line\":{\"color\":\"#E5ECF6\",\"width\":0.5},\"pattern\":{\"fillmode\":\"overlay\",\"size\":10,\"solidity\":0.2}},\"type\":\"bar\"}],\"barpolar\":[{\"marker\":{\"line\":{\"color\":\"#E5ECF6\",\"width\":0.5},\"pattern\":{\"fillmode\":\"overlay\",\"size\":10,\"solidity\":0.2}},\"type\":\"barpolar\"}],\"carpet\":[{\"aaxis\":{\"endlinecolor\":\"#2a3f5f\",\"gridcolor\":\"white\",\"linecolor\":\"white\",\"minorgridcolor\":\"white\",\"startlinecolor\":\"#2a3f5f\"},\"baxis\":{\"endlinecolor\":\"#2a3f5f\",\"gridcolor\":\"white\",\"linecolor\":\"white\",\"minorgridcolor\":\"white\",\"startlinecolor\":\"#2a3f5f\"},\"type\":\"carpet\"}],\"choropleth\":[{\"colorbar\":{\"outlinewidth\":0,\"ticks\":\"\"},\"type\":\"choropleth\"}],\"contour\":[{\"colorbar\":{\"outlinewidth\":0,\"ticks\":\"\"},\"colorscale\":[[0.0,\"#0d0887\"],[0.1111111111111111,\"#46039f\"],[0.2222222222222222,\"#7201a8\"],[0.3333333333333333,\"#9c179e\"],[0.4444444444444444,\"#bd3786\"],[0.5555555555555556,\"#d8576b\"],[0.6666666666666666,\"#ed7953\"],[0.7777777777777778,\"#fb9f3a\"],[0.8888888888888888,\"#fdca26\"],[1.0,\"#f0f921\"]],\"type\":\"contour\"}],\"contourcarpet\":[{\"colorbar\":{\"outlinewidth\":0,\"ticks\":\"\"},\"type\":\"contourcarpet\"}],\"heatmap\":[{\"colorbar\":{\"outlinewidth\":0,\"ticks\":\"\"},\"colorscale\":[[0.0,\"#0d0887\"],[0.1111111111111111,\"#46039f\"],[0.2222222222222222,\"#7201a8\"],[0.3333333333333333,\"#9c179e\"],[0.4444444444444444,\"#bd3786\"],[0.5555555555555556,\"#d8576b\"],[0.6666666666666666,\"#ed7953\"],[0.7777777777777778,\"#fb9f3a\"],[0.8888888888888888,\"#fdca26\"],[1.0,\"#f0f921\"]],\"type\":\"heatmap\"}],\"heatmapgl\":[{\"colorbar\":{\"outlinewidth\":0,\"ticks\":\"\"},\"colorscale\":[[0.0,\"#0d0887\"],[0.1111111111111111,\"#46039f\"],[0.2222222222222222,\"#7201a8\"],[0.3333333333333333,\"#9c179e\"],[0.4444444444444444,\"#bd3786\"],[0.5555555555555556,\"#d8576b\"],[0.6666666666666666,\"#ed7953\"],[0.7777777777777778,\"#fb9f3a\"],[0.8888888888888888,\"#fdca26\"],[1.0,\"#f0f921\"]],\"type\":\"heatmapgl\"}],\"histogram\":[{\"marker\":{\"pattern\":{\"fillmode\":\"overlay\",\"size\":10,\"solidity\":0.2}},\"type\":\"histogram\"}],\"histogram2d\":[{\"colorbar\":{\"outlinewidth\":0,\"ticks\":\"\"},\"colorscale\":[[0.0,\"#0d0887\"],[0.1111111111111111,\"#46039f\"],[0.2222222222222222,\"#7201a8\"],[0.3333333333333333,\"#9c179e\"],[0.4444444444444444,\"#bd3786\"],[0.5555555555555556,\"#d8576b\"],[0.6666666666666666,\"#ed7953\"],[0.7777777777777778,\"#fb9f3a\"],[0.8888888888888888,\"#fdca26\"],[1.0,\"#f0f921\"]],\"type\":\"histogram2d\"}],\"histogram2dcontour\":[{\"colorbar\":{\"outlinewidth\":0,\"ticks\":\"\"},\"colorscale\":[[0.0,\"#0d0887\"],[0.1111111111111111,\"#46039f\"],[0.2222222222222222,\"#7201a8\"],[0.3333333333333333,\"#9c179e\"],[0.4444444444444444,\"#bd3786\"],[0.5555555555555556,\"#d8576b\"],[0.6666666666666666,\"#ed7953\"],[0.7777777777777778,\"#fb9f3a\"],[0.8888888888888888,\"#fdca26\"],[1.0,\"#f0f921\"]],\"type\":\"histogram2dcontour\"}],\"mesh3d\":[{\"colorbar\":{\"outlinewidth\":0,\"ticks\":\"\"},\"type\":\"mesh3d\"}],\"parcoords\":[{\"line\":{\"colorbar\":{\"outlinewidth\":0,\"ticks\":\"\"}},\"type\":\"parcoords\"}],\"pie\":[{\"automargin\":true,\"type\":\"pie\"}],\"scatter\":[{\"marker\":{\"colorbar\":{\"outlinewidth\":0,\"ticks\":\"\"}},\"type\":\"scatter\"}],\"scatter3d\":[{\"line\":{\"colorbar\":{\"outlinewidth\":0,\"ticks\":\"\"}},\"marker\":{\"colorbar\":{\"outlinewidth\":0,\"ticks\":\"\"}},\"type\":\"scatter3d\"}],\"scattercarpet\":[{\"marker\":{\"colorbar\":{\"outlinewidth\":0,\"ticks\":\"\"}},\"type\":\"scattercarpet\"}],\"scattergeo\":[{\"marker\":{\"colorbar\":{\"outlinewidth\":0,\"ticks\":\"\"}},\"type\":\"scattergeo\"}],\"scattergl\":[{\"marker\":{\"colorbar\":{\"outlinewidth\":0,\"ticks\":\"\"}},\"type\":\"scattergl\"}],\"scattermapbox\":[{\"marker\":{\"colorbar\":{\"outlinewidth\":0,\"ticks\":\"\"}},\"type\":\"scattermapbox\"}],\"scatterpolar\":[{\"marker\":{\"colorbar\":{\"outlinewidth\":0,\"ticks\":\"\"}},\"type\":\"scatterpolar\"}],\"scatterpolargl\":[{\"marker\":{\"colorbar\":{\"outlinewidth\":0,\"ticks\":\"\"}},\"type\":\"scatterpolargl\"}],\"scatterternary\":[{\"marker\":{\"colorbar\":{\"outlinewidth\":0,\"ticks\":\"\"}},\"type\":\"scatterternary\"}],\"surface\":[{\"colorbar\":{\"outlinewidth\":0,\"ticks\":\"\"},\"colorscale\":[[0.0,\"#0d0887\"],[0.1111111111111111,\"#46039f\"],[0.2222222222222222,\"#7201a8\"],[0.3333333333333333,\"#9c179e\"],[0.4444444444444444,\"#bd3786\"],[0.5555555555555556,\"#d8576b\"],[0.6666666666666666,\"#ed7953\"],[0.7777777777777778,\"#fb9f3a\"],[0.8888888888888888,\"#fdca26\"],[1.0,\"#f0f921\"]],\"type\":\"surface\"}],\"table\":[{\"cells\":{\"fill\":{\"color\":\"#EBF0F8\"},\"line\":{\"color\":\"white\"}},\"header\":{\"fill\":{\"color\":\"#C8D4E3\"},\"line\":{\"color\":\"white\"}},\"type\":\"table\"}]},\"layout\":{\"annotationdefaults\":{\"arrowcolor\":\"#2a3f5f\",\"arrowhead\":0,\"arrowwidth\":1},\"autotypenumbers\":\"strict\",\"coloraxis\":{\"colorbar\":{\"outlinewidth\":0,\"ticks\":\"\"}},\"colorscale\":{\"diverging\":[[0,\"#8e0152\"],[0.1,\"#c51b7d\"],[0.2,\"#de77ae\"],[0.3,\"#f1b6da\"],[0.4,\"#fde0ef\"],[0.5,\"#f7f7f7\"],[0.6,\"#e6f5d0\"],[0.7,\"#b8e186\"],[0.8,\"#7fbc41\"],[0.9,\"#4d9221\"],[1,\"#276419\"]],\"sequential\":[[0.0,\"#0d0887\"],[0.1111111111111111,\"#46039f\"],[0.2222222222222222,\"#7201a8\"],[0.3333333333333333,\"#9c179e\"],[0.4444444444444444,\"#bd3786\"],[0.5555555555555556,\"#d8576b\"],[0.6666666666666666,\"#ed7953\"],[0.7777777777777778,\"#fb9f3a\"],[0.8888888888888888,\"#fdca26\"],[1.0,\"#f0f921\"]],\"sequentialminus\":[[0.0,\"#0d0887\"],[0.1111111111111111,\"#46039f\"],[0.2222222222222222,\"#7201a8\"],[0.3333333333333333,\"#9c179e\"],[0.4444444444444444,\"#bd3786\"],[0.5555555555555556,\"#d8576b\"],[0.6666666666666666,\"#ed7953\"],[0.7777777777777778,\"#fb9f3a\"],[0.8888888888888888,\"#fdca26\"],[1.0,\"#f0f921\"]]},\"colorway\":[\"#636efa\",\"#EF553B\",\"#00cc96\",\"#ab63fa\",\"#FFA15A\",\"#19d3f3\",\"#FF6692\",\"#B6E880\",\"#FF97FF\",\"#FECB52\"],\"font\":{\"color\":\"#2a3f5f\"},\"geo\":{\"bgcolor\":\"white\",\"lakecolor\":\"white\",\"landcolor\":\"#E5ECF6\",\"showlakes\":true,\"showland\":true,\"subunitcolor\":\"white\"},\"hoverlabel\":{\"align\":\"left\"},\"hovermode\":\"closest\",\"mapbox\":{\"style\":\"light\"},\"paper_bgcolor\":\"white\",\"plot_bgcolor\":\"#E5ECF6\",\"polar\":{\"angularaxis\":{\"gridcolor\":\"white\",\"linecolor\":\"white\",\"ticks\":\"\"},\"bgcolor\":\"#E5ECF6\",\"radialaxis\":{\"gridcolor\":\"white\",\"linecolor\":\"white\",\"ticks\":\"\"}},\"scene\":{\"xaxis\":{\"backgroundcolor\":\"#E5ECF6\",\"gridcolor\":\"white\",\"gridwidth\":2,\"linecolor\":\"white\",\"showbackground\":true,\"ticks\":\"\",\"zerolinecolor\":\"white\"},\"yaxis\":{\"backgroundcolor\":\"#E5ECF6\",\"gridcolor\":\"white\",\"gridwidth\":2,\"linecolor\":\"white\",\"showbackground\":true,\"ticks\":\"\",\"zerolinecolor\":\"white\"},\"zaxis\":{\"backgroundcolor\":\"#E5ECF6\",\"gridcolor\":\"white\",\"gridwidth\":2,\"linecolor\":\"white\",\"showbackground\":true,\"ticks\":\"\",\"zerolinecolor\":\"white\"}},\"shapedefaults\":{\"line\":{\"color\":\"#2a3f5f\"}},\"ternary\":{\"aaxis\":{\"gridcolor\":\"white\",\"linecolor\":\"white\",\"ticks\":\"\"},\"baxis\":{\"gridcolor\":\"white\",\"linecolor\":\"white\",\"ticks\":\"\"},\"bgcolor\":\"#E5ECF6\",\"caxis\":{\"gridcolor\":\"white\",\"linecolor\":\"white\",\"ticks\":\"\"}},\"title\":{\"x\":0.05},\"xaxis\":{\"automargin\":true,\"gridcolor\":\"white\",\"linecolor\":\"white\",\"ticks\":\"\",\"title\":{\"standoff\":15},\"zerolinecolor\":\"white\",\"zerolinewidth\":2},\"yaxis\":{\"automargin\":true,\"gridcolor\":\"white\",\"linecolor\":\"white\",\"ticks\":\"\",\"title\":{\"standoff\":15},\"zerolinecolor\":\"white\",\"zerolinewidth\":2}}},\"xaxis\":{\"anchor\":\"y\",\"domain\":[0.0,1.0]},\"yaxis\":{\"anchor\":\"x\",\"domain\":[0.0,1.0]}},                        {\"responsive\": true}                    ).then(function(){\n",
       "                            \n",
       "var gd = document.getElementById('fcc40651-2177-462e-9b71-f0141a785f59');\n",
       "var x = new MutationObserver(function (mutations, observer) {{\n",
       "        var display = window.getComputedStyle(gd).display;\n",
       "        if (!display || display === 'none') {{\n",
       "            console.log([gd, 'removed!']);\n",
       "            Plotly.purge(gd);\n",
       "            observer.disconnect();\n",
       "        }}\n",
       "}});\n",
       "\n",
       "// Listen for the removal of the full notebook cells\n",
       "var notebookContainer = gd.closest('#notebook-container');\n",
       "if (notebookContainer) {{\n",
       "    x.observe(notebookContainer, {childList: true});\n",
       "}}\n",
       "\n",
       "// Listen for the clearing of the current output cell\n",
       "var outputEl = gd.closest('.output');\n",
       "if (outputEl) {{\n",
       "    x.observe(outputEl, {childList: true});\n",
       "}}\n",
       "\n",
       "                        })                };                });            </script>        </div>"
      ]
     },
     "metadata": {},
     "output_type": "display_data"
    },
    {
     "name": "stdout",
     "output_type": "stream",
     "text": [
      "truck\n"
     ]
    }
   ],
   "source": [
    "# データセットの画像例\n",
    "import plotly.express as px\n",
    "import numpy as np\n",
    "\n",
    "image, label = trainset[1]\n",
    "fig = px.imshow(np.transpose(image, (1, 2, 0)))\n",
    "fig.show()\n",
    "print(classes[label])"
   ]
  },
  {
   "cell_type": "markdown",
   "id": "5c418b15-391e-425b-aaee-2a9b83e767a4",
   "metadata": {},
   "source": [
    "## データローダーの作成\n",
    "データは学習時にはミニバッチと呼ばれる複数データのセットとして利用されます。\n",
    "\n",
    "データセットを元にバッチを提供するのが DataLoader です。"
   ]
  },
  {
   "cell_type": "code",
   "execution_count": 22,
   "id": "1b63ffd7-cbc4-45e9-abb4-6326ac4719d9",
   "metadata": {},
   "outputs": [],
   "source": [
    "trainloader = torch.utils.data.DataLoader(trainset, batch_size=4,\n",
    "                                          shuffle=True, num_workers=2)"
   ]
  },
  {
   "cell_type": "markdown",
   "id": "b84e3294-e65e-4a1e-8931-1d6891054328",
   "metadata": {},
   "source": [
    "## モデルの定義\n",
    "ここまで、データの準備が整ったのでモデルの定義をします。\n",
    "\n",
    "今回は畳み込みニューラルネットワーク（CNN）を定義して利用します。\n",
    "\n",
    "モデルの定義では、初期化処理でネットワークを定義し、forward メソッドで実際の入力を出力に変えるまでの各層の処理を書くことが多いです。\n",
    "\n",
    "[PyTorch の各層](https://pytorch.org/docs/stable/nn.html)"
   ]
  },
  {
   "cell_type": "code",
   "execution_count": 23,
   "id": "598c6de9-5675-465b-b937-d2a222553fc6",
   "metadata": {},
   "outputs": [],
   "source": [
    "import torch.nn as nn\n",
    "import torch.nn.functional as F\n",
    "\n",
    "\n",
    "class Net(nn.Module):\n",
    "    def __init__(self):\n",
    "        super(Net, self).__init__()\n",
    "        self.conv1 = nn.Conv2d(3, 6, 5)\n",
    "        self.pool = nn.MaxPool2d(2, 2)\n",
    "        self.conv2 = nn.Conv2d(6, 16, 5)\n",
    "        self.fc1 = nn.Linear(16 * 5 * 5, 120)\n",
    "        self.fc2 = nn.Linear(120, 84)\n",
    "        self.fc3 = nn.Linear(84, 10)\n",
    "\n",
    "    def forward(self, x):\n",
    "        x = self.pool(F.relu(self.conv1(x)))\n",
    "        x = self.pool(F.relu(self.conv2(x)))\n",
    "        x = x.view(-1, 16 * 5 * 5)\n",
    "        x = F.relu(self.fc1(x))\n",
    "        x = F.relu(self.fc2(x))\n",
    "        x = self.fc3(x)\n",
    "        return x\n",
    "\n",
    "\n",
    "net = Net()"
   ]
  },
  {
   "cell_type": "markdown",
   "id": "5e3b706f-e41a-4d89-a5ea-46fc1abe3a0d",
   "metadata": {},
   "source": [
    "## 損失関数の定義\n",
    "損失関数は、（出力、目標）のペアを入力に、ニューラルネットワークの出力（output）が目標（target）からどれくらい乖離しているかを推定する値を計算します。\n",
    "\n",
    "[PyTorch の損失関数](https://pytorch.org/docs/stable/nn.html#loss-functions)"
   ]
  },
  {
   "cell_type": "code",
   "execution_count": 24,
   "id": "4275b79b-7ce8-4037-8458-5b7c77c9b3f3",
   "metadata": {},
   "outputs": [],
   "source": [
    "criterion = nn.CrossEntropyLoss() # クロスエントロピー誤差関数"
   ]
  },
  {
   "cell_type": "markdown",
   "id": "0642bf11-d8db-4fcd-a4f7-d480409181a4",
   "metadata": {},
   "source": [
    "## オプティマイザの定義\n",
    "計算した損失を元にパラメタの最適化を行います。\n",
    "\n",
    "この最適化を行う際の更新則を決めるのがオプティマイザです。\n",
    "\n",
    "[PyTorch のオプティマイザ](https://pytorch.org/docs/stable/optim.html)"
   ]
  },
  {
   "cell_type": "code",
   "execution_count": 25,
   "id": "dcc01fc3-e6fb-4142-b1f5-4d63c69f6e24",
   "metadata": {},
   "outputs": [],
   "source": [
    "import torch.optim as optim\n",
    "optimizer = optim.SGD(net.parameters(), lr=0.01) # 確率勾配降下（SGD）"
   ]
  },
  {
   "cell_type": "markdown",
   "id": "e13c3f51-9615-492c-b26b-a02eda587918",
   "metadata": {},
   "source": [
    "## モデルの学習\n",
    "繰り返しデータをモデルに与えて、最適化を行っていきます。"
   ]
  },
  {
   "cell_type": "code",
   "execution_count": 26,
   "id": "9a1460c6-44a2-4be7-bb57-236cdd21f0ff",
   "metadata": {},
   "outputs": [
    {
     "name": "stdout",
     "output_type": "stream",
     "text": [
      "[1,  2000] loss: 2.254\n",
      "[1,  4000] loss: 1.963\n",
      "[1,  6000] loss: 1.743\n",
      "[1,  8000] loss: 1.595\n",
      "[1, 10000] loss: 1.538\n",
      "[1, 12000] loss: 1.476\n",
      "Finished Training\n"
     ]
    }
   ],
   "source": [
    "for epoch in range(1):  # エポック数分ループを回します\n",
    "\n",
    "    running_loss = 0.0\n",
    "    for i, data in enumerate(trainloader, 0):\n",
    "        # データセットのデータを [inputs, labels]の形で取得\n",
    "        inputs, labels = data\n",
    "\n",
    "        # パラメータの勾配をリセット\n",
    "        optimizer.zero_grad()\n",
    "\n",
    "        # 順伝搬＋逆伝搬＋パラメータ更新\n",
    "        outputs = net(inputs)\n",
    "        loss = criterion(outputs, labels)\n",
    "        loss.backward()\n",
    "        optimizer.step()\n",
    "\n",
    "        # 統計情報の表示\n",
    "        running_loss += loss.item()\n",
    "        if i % 2000 == 1999:    # 2,000ミニバッチにつき1度表示\n",
    "            print('[%d, %5d] loss: %.3f' %\n",
    "                  (epoch + 1, i + 1, running_loss / 2000))\n",
    "            running_loss = 0.0\n",
    "\n",
    "print('Finished Training')"
   ]
  },
  {
   "cell_type": "code",
   "execution_count": 27,
   "id": "99ecdb24-5b37-4510-a3f4-a3bcc9f1841b",
   "metadata": {},
   "outputs": [],
   "source": [
    "# 学習したパラメタの保存\n",
    "PATH = './cifar_net.pth'\n",
    "torch.save(net.state_dict(), PATH)"
   ]
  },
  {
   "cell_type": "markdown",
   "id": "51122f98-b43f-48b9-8cb2-491a5c4e5a05",
   "metadata": {},
   "source": [
    "## テスト\n",
    "学習したモデルの汎化性能を確認するために、学習に用いていないテストデータを用いて評価を行います。"
   ]
  },
  {
   "cell_type": "code",
   "execution_count": 28,
   "id": "46cc1ca8-2adb-4514-b81d-18a737634027",
   "metadata": {},
   "outputs": [
    {
     "name": "stdout",
     "output_type": "stream",
     "text": [
      "Files already downloaded and verified\n"
     ]
    }
   ],
   "source": [
    "testset = torchvision.datasets.CIFAR10(root='./data', train=False,\n",
    "                                       download=True, transform=transform)\n",
    "testloader = torch.utils.data.DataLoader(testset, batch_size=4,\n",
    "                                         shuffle=False, num_workers=2)"
   ]
  },
  {
   "cell_type": "code",
   "execution_count": 29,
   "id": "a68fa85a-ba32-4d8c-88ff-c3cd475d26d6",
   "metadata": {},
   "outputs": [
    {
     "name": "stdout",
     "output_type": "stream",
     "text": [
      "Accuracy of the network on the 10000 test images: 49 %\n"
     ]
    }
   ],
   "source": [
    "correct = 0\n",
    "total = 0\n",
    "with torch.no_grad():\n",
    "    for data in testloader:\n",
    "        images, labels = data\n",
    "        outputs = net(images) # output はある画像が得られたとき、あるクラスである条件付確率です\n",
    "        _, predicted = torch.max(outputs.data, 1) # 確率が最も高いクラスを取得し、ラベルと比較します\n",
    "        total += labels.size(0)\n",
    "        correct += (predicted == labels).sum().item()\n",
    "\n",
    "print('Accuracy of the network on the 10000 test images: %d %%' % (\n",
    "    100 * correct / total))"
   ]
  },
  {
   "cell_type": "markdown",
   "id": "d9ba0130-a744-410f-a6ef-01a0714cd9e1",
   "metadata": {},
   "source": [
    "ランダムで選んだ場合、クラスを当てられる確率は 10 % なのでちゃんと学習できていることが分かります。\n",
    "\n",
    "チュートリアルは以上です！おつかれさまでした！"
   ]
  },
  {
   "cell_type": "code",
   "execution_count": null,
   "id": "27eadf54-d586-485a-bc83-8852456e8aca",
   "metadata": {},
   "outputs": [],
   "source": []
  }
 ],
 "metadata": {
  "kernelspec": {
   "display_name": "Python 3",
   "language": "python",
   "name": "python3"
  },
  "language_info": {
   "codemirror_mode": {
    "name": "ipython",
    "version": 3
   },
   "file_extension": ".py",
   "mimetype": "text/x-python",
   "name": "python",
   "nbconvert_exporter": "python",
   "pygments_lexer": "ipython3",
   "version": "3.6.9"
  }
 },
 "nbformat": 4,
 "nbformat_minor": 5
}
